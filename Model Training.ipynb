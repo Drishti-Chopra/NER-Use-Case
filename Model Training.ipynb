{
 "cells": [
  {
   "cell_type": "markdown",
   "metadata": {},
   "source": [
    "# Named Entity Recognition Solution"
   ]
  },
  {
   "cell_type": "markdown",
   "metadata": {},
   "source": []
  },
  {
   "cell_type": "code",
   "execution_count": null,
   "metadata": {},
   "outputs": [],
   "source": [
    "# Import necessary libraries\n",
    "\n",
    "import pandas as pd\n",
    "import torch\n",
    "import numpy as np\n",
    "import os\n",
    "from sklearn.model_selection import train_test_split\n",
    "from transformers import BertTokenizerFast, BertForTokenClassification\n",
    "from torch.utils.data import Dataset\n",
    "from transformers import BertForTokenClassification, BertTokenizerFast\n",
    "import torch\n",
    "from transformers import Trainer, TrainingArguments\n",
    "from transformers import pipeline"
   ]
  },
  {
   "cell_type": "markdown",
   "metadata": {},
   "source": [
    "# Loading Dataset and data Pre-Processing"
   ]
  },
  {
   "cell_type": "code",
   "execution_count": null,
   "metadata": {},
   "outputs": [],
   "source": [
    "# Ensure data directory exists\n",
    "os.makedirs(\"data\", exist_ok=True)\n",
    "\n",
    "# Load dataset\n",
    "file_path = \"data/ner_dataset.csv\"\n",
    "df = pd.read_csv(file_path, encoding=\"unicode_escape\")\n",
    "df.head()\n"
   ]
  },
  {
   "cell_type": "code",
   "execution_count": null,
   "metadata": {},
   "outputs": [],
   "source": [
    "df = df[['Sentence #', 'Word', 'Tag']]\n",
    "df.head()"
   ]
  },
  {
   "cell_type": "code",
   "execution_count": null,
   "metadata": {},
   "outputs": [],
   "source": [
    "# ----  Missing value check ----------\n",
    "\n",
    "df.isnull().sum()"
   ]
  },
  {
   "cell_type": "code",
   "execution_count": null,
   "metadata": {},
   "outputs": [],
   "source": [
    "# ----- Handling missing values\n",
    "\n",
    "# Fill missing \"Sentence #\" values (forward fill)\n",
    "df['Sentence #'].fillna(method='ffill', inplace=True)\n",
    "\n",
    "# Drop missing words\n",
    "df.dropna(subset=['Word'], inplace=True)\n",
    "\n",
    "# Step 3: Replace missing tags with \"O\" (Outside entity)\n",
    "df['Tag'].fillna(\"O\", inplace=True)\n",
    "\n",
    "# Group words and tags into sentences\n",
    "grouped = df.groupby(\"Sentence #\").agg(lambda x: list(x))\n",
    "grouped.head()"
   ]
  },
  {
   "cell_type": "code",
   "execution_count": null,
   "metadata": {},
   "outputs": [],
   "source": [
    "# Split the dataset into training, testing and validation data\n",
    "\n",
    "train_data, test_data = train_test_split(grouped, test_size=0.2, random_state=42)\n",
    "train_data, val_data = train_test_split(train_data, test_size=0.125, random_state=42)  # 10% validation\n",
    "\n",
    "# Reset index\n",
    "train_data, val_data, test_data = train_data.reset_index(drop=True), val_data.reset_index(drop=True), test_data.reset_index(drop=True)"
   ]
  },
  {
   "cell_type": "markdown",
   "metadata": {},
   "source": [
    "# Creating Labels and model training"
   ]
  },
  {
   "cell_type": "code",
   "execution_count": 2,
   "metadata": {},
   "outputs": [],
   "source": [
    "# Load Tokenizer\n",
    "tokenizer = BertTokenizerFast.from_pretrained(\"bert-base-cased\")\n",
    "\n",
    "# Create label mappings\n",
    "unique_tags = sorted(list(set(tag for tags in grouped[\"Tag\"] for tag in tags)))\n",
    "tag2id = {tag: i for i, tag in enumerate(unique_tags)}\n",
    "id2tag = {i: tag for tag, i in tag2id.items()}\n",
    "\n",
    "# Save label mappings\n",
    "import pickle\n",
    "with open(\"data/tag2id.pkl\", \"wb\") as f:\n",
    "    pickle.dump(tag2id, f)\n",
    "with open(\"data/id2tag.pkl\", \"wb\") as f:\n",
    "    pickle.dump(id2tag, f)\n"
   ]
  },
  {
   "cell_type": "code",
   "execution_count": null,
   "metadata": {},
   "outputs": [],
   "source": [
    "# NER Dataset Class\n",
    "class NERDataset(Dataset):\n",
    "    def __init__(self, data, tokenizer, tag2id, max_len=128):\n",
    "        self.data = data\n",
    "        self.tokenizer = tokenizer\n",
    "        self.tag2id = tag2id\n",
    "        self.max_len = max_len\n",
    "\n",
    "    def __len__(self):\n",
    "        return len(self.data)\n",
    "\n",
    "    def __getitem__(self, index):\n",
    "        words = self.data.iloc[index][\"Word\"]\n",
    "        tags = self.data.iloc[index][\"Tag\"]\n",
    "\n",
    "        # Tokenize and map labels\n",
    "        encoding = self.tokenizer(words, is_split_into_words=True, padding=\"max_length\",\n",
    "                                  truncation=True, max_length=self.max_len, return_tensors=\"pt\")\n",
    "        \n",
    "        # Convert tags to IDs\n",
    "        tag_ids = [self.tag2id[tag] for tag in tags] + [self.tag2id[\"O\"]] * (self.max_len - len(tags))\n",
    "\n",
    "        encoding[\"labels\"] = torch.tensor(tag_ids[:self.max_len])\n",
    "\n",
    "        return {key: val.squeeze() for key, val in encoding.items()}  # Remove batch dimension"
   ]
  },
  {
   "cell_type": "code",
   "execution_count": null,
   "metadata": {},
   "outputs": [],
   "source": [
    "# Prepare datasets\n",
    "train_dataset = NERDataset(train_data, tokenizer, tag2id)\n",
    "val_dataset = NERDataset(val_data, tokenizer, tag2id)\n",
    "test_dataset = NERDataset(test_data, tokenizer, tag2id)"
   ]
  },
  {
   "cell_type": "code",
   "execution_count": 3,
   "metadata": {},
   "outputs": [
    {
     "name": "stderr",
     "output_type": "stream",
     "text": [
      "Some weights of BertForTokenClassification were not initialized from the model checkpoint at bert-base-cased and are newly initialized: ['classifier.bias', 'classifier.weight']\n",
      "You should probably TRAIN this model on a down-stream task to be able to use it for predictions and inference.\n",
      "/opt/homebrew/Caskroom/miniforge/base/lib/python3.10/site-packages/transformers/training_args.py:1594: FutureWarning: `evaluation_strategy` is deprecated and will be removed in version 4.46 of 🤗 Transformers. Use `eval_strategy` instead\n",
      "  warnings.warn(\n",
      "/var/folders/m8/p2450wkn6rzg_rq9f6lqvxqh0000gn/T/ipykernel_30641/3174018838.py:25: FutureWarning: `tokenizer` is deprecated and will be removed in version 5.0.0 for `Trainer.__init__`. Use `processing_class` instead.\n",
      "  trainer = Trainer(\n"
     ]
    },
    {
     "data": {
      "text/html": [
       "\n",
       "    <div>\n",
       "      \n",
       "      <progress value='25179' max='25179' style='width:300px; height:20px; vertical-align: middle;'></progress>\n",
       "      [25179/25179 48:19, Epoch 3/3]\n",
       "    </div>\n",
       "    <table border=\"1\" class=\"dataframe\">\n",
       "  <thead>\n",
       " <tr style=\"text-align: left;\">\n",
       "      <th>Epoch</th>\n",
       "      <th>Training Loss</th>\n",
       "      <th>Validation Loss</th>\n",
       "    </tr>\n",
       "  </thead>\n",
       "  <tbody>\n",
       "    <tr>\n",
       "      <td>1</td>\n",
       "      <td>0.029600</td>\n",
       "      <td>0.028804</td>\n",
       "    </tr>\n",
       "    <tr>\n",
       "      <td>2</td>\n",
       "      <td>0.024100</td>\n",
       "      <td>0.021714</td>\n",
       "    </tr>\n",
       "    <tr>\n",
       "      <td>3</td>\n",
       "      <td>0.011900</td>\n",
       "      <td>0.019274</td>\n",
       "    </tr>\n",
       "  </tbody>\n",
       "</table><p>"
      ],
      "text/plain": [
       "<IPython.core.display.HTML object>"
      ]
     },
     "metadata": {},
     "output_type": "display_data"
    },
    {
     "name": "stdout",
     "output_type": "stream",
     "text": [
      "Model training complete and saved at: data/ner_model\n"
     ]
    }
   ],
   "source": [
    "# Define model path\n",
    "MODEL_PATH = \"data/ner_model\"\n",
    "os.makedirs(MODEL_PATH, exist_ok=True)\n",
    "\n",
    "# Load pre-trained BERT for token classification\n",
    "model = BertForTokenClassification.from_pretrained(\"bert-base-cased\", num_labels=len(tag2id))\n",
    "\n",
    "# Training arguments\n",
    "training_args = TrainingArguments(\n",
    "    output_dir=MODEL_PATH,\n",
    "    evaluation_strategy=\"epoch\",\n",
    "    save_strategy=\"epoch\",\n",
    "    logging_steps=100,\n",
    "    per_device_train_batch_size=4,  # Reduce batch size for memory efficiency\n",
    "    per_device_eval_batch_size=4,\n",
    "    num_train_epochs=3,\n",
    "    weight_decay=0.01,\n",
    "    save_total_limit=2,\n",
    "    load_best_model_at_end=True,\n",
    ")\n",
    "\n",
    "# Define Trainer\n",
    "trainer = Trainer(\n",
    "    model=model,\n",
    "    args=training_args,\n",
    "    train_dataset=train_dataset,\n",
    "    eval_dataset=val_dataset,\n",
    "    tokenizer=tokenizer,\n",
    ")\n",
    "\n",
    "# Train the model\n",
    "trainer.train()\n",
    "\n",
    "# Save trained model\n",
    "model.save_pretrained(MODEL_PATH)\n",
    "tokenizer.save_pretrained(MODEL_PATH)\n",
    "print(\"Model training complete and saved at:\", MODEL_PATH)"
   ]
  },
  {
   "cell_type": "markdown",
   "metadata": {},
   "source": [
    "# Testing"
   ]
  },
  {
   "cell_type": "code",
   "execution_count": 4,
   "metadata": {},
   "outputs": [
    {
     "name": "stderr",
     "output_type": "stream",
     "text": [
      "Device set to use mps:0\n"
     ]
    },
    {
     "name": "stdout",
     "output_type": "stream",
     "text": [
      "[{'entity': 'LABEL_14', 'score': 0.9947083, 'index': 1, 'word': 'El', 'start': 0, 'end': 2}, {'entity': 'LABEL_16', 'score': 0.99945503, 'index': 2, 'word': '##on', 'start': 2, 'end': 4}, {'entity': 'LABEL_5', 'score': 0.49935323, 'index': 3, 'word': 'Mu', 'start': 5, 'end': 7}, {'entity': 'LABEL_16', 'score': 0.9850702, 'index': 4, 'word': '##sk', 'start': 7, 'end': 9}, {'entity': 'LABEL_7', 'score': 0.9955851, 'index': 5, 'word': 'founded', 'start': 10, 'end': 17}, {'entity': 'LABEL_16', 'score': 0.99072886, 'index': 6, 'word': 'Space', 'start': 18, 'end': 23}, {'entity': 'LABEL_2', 'score': 0.9563591, 'index': 7, 'word': '##X', 'start': 23, 'end': 24}, {'entity': 'LABEL_16', 'score': 0.99983764, 'index': 8, 'word': 'in', 'start': 25, 'end': 27}, {'entity': 'LABEL_16', 'score': 0.9999869, 'index': 9, 'word': '2002', 'start': 28, 'end': 32}, {'entity': 'LABEL_16', 'score': 0.9999913, 'index': 10, 'word': 'in', 'start': 33, 'end': 35}, {'entity': 'LABEL_16', 'score': 0.9999927, 'index': 11, 'word': 'California', 'start': 36, 'end': 46}, {'entity': 'LABEL_16', 'score': 0.99999213, 'index': 12, 'word': '.', 'start': 46, 'end': 47}]\n"
     ]
    }
   ],
   "source": [
    "# Load the trained model for inference\n",
    "ner_pipeline = pipeline(\"ner\", model=MODEL_PATH, tokenizer=MODEL_PATH)\n",
    "\n",
    "# Sample inference\n",
    "sample_sentence = \"Elon Musk founded SpaceX in 2002 in California.\"\n",
    "ner_results = ner_pipeline(sample_sentence)\n",
    "\n",
    "print(ner_results)"
   ]
  },
  {
   "cell_type": "code",
   "execution_count": 7,
   "metadata": {},
   "outputs": [
    {
     "data": {
      "text/plain": [
       "[{'entity': 'LABEL_16',\n",
       "  'score': 0.9998516,\n",
       "  'index': 1,\n",
       "  'word': 'Welcome',\n",
       "  'start': 0,\n",
       "  'end': 7},\n",
       " {'entity': 'LABEL_2',\n",
       "  'score': 0.9891896,\n",
       "  'index': 2,\n",
       "  'word': 'to',\n",
       "  'start': 8,\n",
       "  'end': 10},\n",
       " {'entity': 'LABEL_16',\n",
       "  'score': 0.9999844,\n",
       "  'index': 3,\n",
       "  'word': 'California',\n",
       "  'start': 11,\n",
       "  'end': 21},\n",
       " {'entity': 'LABEL_16',\n",
       "  'score': 0.9999927,\n",
       "  'index': 4,\n",
       "  'word': '.',\n",
       "  'start': 21,\n",
       "  'end': 22}]"
      ]
     },
     "execution_count": 7,
     "metadata": {},
     "output_type": "execute_result"
    }
   ],
   "source": [
    "# Test 2\n",
    "sample_sentence = \"Welcome to California.\"\n",
    "ner_results = ner_pipeline(sample_sentence)\n",
    "ner_results"
   ]
  },
  {
   "cell_type": "markdown",
   "metadata": {},
   "source": [
    "# Prediction on new data"
   ]
  },
  {
   "cell_type": "code",
   "execution_count": 9,
   "metadata": {},
   "outputs": [
    {
     "name": "stdout",
     "output_type": "stream",
     "text": [
      "[('Elon', 'B-per'), ('Musk', 'I-per'), ('founded', 'O'), ('SpaceX', 'B-org'), ('in', 'O'), ('2002', 'B-tim'), ('in', 'O'), ('California.', 'B-geo')]\n"
     ]
    }
   ],
   "source": [
    "# Load model and tokenizer\n",
    "loaded_model = BertForTokenClassification.from_pretrained(MODEL_PATH)\n",
    "loaded_tokenizer = BertTokenizerFast.from_pretrained(MODEL_PATH)\n",
    "\n",
    "# Load label mappings\n",
    "with open(\"data/id2tag.pkl\", \"rb\") as f:\n",
    "    id2tag = pickle.load(f)\n",
    "\n",
    "# Function to predict NER tags\n",
    "def predict_ner(sentence):\n",
    "    tokens = loaded_tokenizer(sentence, return_tensors=\"pt\", truncation=True, padding=\"max_length\", max_length=128)\n",
    "    outputs = loaded_model(**tokens)\n",
    "    predictions = torch.argmax(outputs.logits, dim=-1).squeeze().tolist()\n",
    "    \n",
    "    # Convert predictions to labels\n",
    "    predicted_tags = [id2tag[p] for p in predictions]\n",
    "\n",
    "    return list(zip(sentence.split(), predicted_tags[:len(sentence.split())]))\n",
    "\n",
    "# Example Prediction\n",
    "test_sentence = \"Barack Obama was born in Hawaii.\"\n",
    "test_sentence = \"Elon Musk founded SpaceX in 2002 in California.\"\n",
    "print(predict_ner(test_sentence))"
   ]
  },
  {
   "cell_type": "markdown",
   "metadata": {},
   "source": [
    "# Model Evaluation"
   ]
  },
  {
   "cell_type": "code",
   "execution_count": 14,
   "metadata": {},
   "outputs": [
    {
     "name": "stdout",
     "output_type": "stream",
     "text": [
      "              precision    recall  f1-score   support\n",
      "\n",
      "         art     0.1034    0.0566    0.0732        53\n",
      "         eve     0.2444    0.3143    0.2750        35\n",
      "         geo     0.8285    0.8700    0.8487      3792\n",
      "         gpe     0.9396    0.9222    0.9308      1517\n",
      "         nat     0.3636    0.4444    0.4000         9\n",
      "         org     0.6894    0.6812    0.6853      1929\n",
      "         per     0.7468    0.7659    0.7562      1683\n",
      "         tim     0.8390    0.8304    0.8347      2052\n",
      "\n",
      "   micro avg     0.8043    0.8151    0.8096     11070\n",
      "   macro avg     0.5943    0.6106    0.6005     11070\n",
      "weighted avg     0.8033    0.8151    0.8089     11070\n",
      "\n"
     ]
    }
   ],
   "source": [
    "# from seqeval.metrics import classification_report\n",
    "# import numpy as np\n",
    "\n",
    "# # Function to evaluate the model\n",
    "# def evaluate_ner(model, dataset, tokenizer, id2tag):\n",
    "#     model.eval()  # Set model to evaluation mode\n",
    "\n",
    "#     true_labels, pred_labels = [], []\n",
    "\n",
    "#     for example in dataset:\n",
    "#         tokens = {key: val.unsqueeze(0) for key, val in example.items() if key != \"labels\"}  # Prepare input\n",
    "#         labels = example[\"labels\"].tolist()\n",
    "\n",
    "#         # Get model predictions\n",
    "#         with torch.no_grad():\n",
    "#             outputs = model(**tokens)\n",
    "#             predictions = torch.argmax(outputs.logits, dim=-1).squeeze().tolist()\n",
    "\n",
    "#         # Convert label IDs to tag names\n",
    "#         true_labels.append([id2tag[label] for label in labels if label != -100])  # Ignore padding tokens\n",
    "#         pred_labels.append([id2tag[pred] for pred in predictions if pred != -100])  # Ignore padding tokens\n",
    "\n",
    "#     # Print the classification report\n",
    "#     print(classification_report(true_labels, pred_labels, digits=4))\n",
    "\n",
    "# # Load the trained model\n",
    "# model = BertForTokenClassification.from_pretrained(\"data/ner_model\")\n",
    "# tokenizer = BertTokenizerFast.from_pretrained(\"data/ner_model\")\n",
    "\n",
    "# # Load label mappings\n",
    "# import pickle\n",
    "# with open(\"data/id2tag.pkl\", \"rb\") as f:\n",
    "#     id2tag = pickle.load(f)\n",
    "\n",
    "# # Evaluate on the validation dataset\n",
    "# evaluate_ner(model, val_dataset, tokenizer, id2tag)\n"
   ]
  }
 ],
 "metadata": {
  "kernelspec": {
   "display_name": "base",
   "language": "python",
   "name": "python3"
  },
  "language_info": {
   "codemirror_mode": {
    "name": "ipython",
    "version": 3
   },
   "file_extension": ".py",
   "mimetype": "text/x-python",
   "name": "python",
   "nbconvert_exporter": "python",
   "pygments_lexer": "ipython3",
   "version": "3.10.14"
  }
 },
 "nbformat": 4,
 "nbformat_minor": 2
}
